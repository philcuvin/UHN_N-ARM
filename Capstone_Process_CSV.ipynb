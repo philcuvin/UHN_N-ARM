{
 "cells": [
  {
   "cell_type": "code",
   "execution_count": 5,
   "metadata": {},
   "outputs": [],
   "source": [
    "import math\n",
    "import numpy as np\n",
    "import time\n",
    "import cv2 as cv\n",
    "import matplotlib.pyplot as plt\n",
    "import matplotlib.ticker as mticker\n",
    "import datetime\n",
    "import pandas as pd\n",
    "from natsort import natsorted\n",
    "\n",
    "\n",
    "from builtins import input\n",
    "import argparse\n",
    "\n",
    "import os\n",
    "\n",
    "import PySimpleGUI as sg\n",
    "import os.path\n",
    "\n",
    "from PIL import Image, ImageTk, ImageDraw, ImageFont\n",
    "\n",
    "from matplotlib.backends.backend_tkagg import FigureCanvasTkAgg\n",
    "\n",
    "import csv"
   ]
  },
  {
   "cell_type": "code",
   "execution_count": 6,
   "metadata": {},
   "outputs": [],
   "source": [
    "# Creating folder for saving video\n",
    "\n",
    "path = \"C:/Users/philc/OneDrive/Desktop\" # (Change path to desired path of images)\n",
    "\n",
    "os.chdir(path) # Changing directory to desired file path\n",
    "\n",
    "os.mkdir(\"Capstone_Files\") # Creating folder for images\n",
    "\n",
    "img_path = path+\"/Capstone_Files\"\n",
    "\n",
    "os.chdir(img_path) # Changing directory to desired image file path\n"
   ]
  },
  {
   "cell_type": "code",
   "execution_count": 72,
   "metadata": {},
   "outputs": [],
   "source": [
    "file_avg = []\n",
    "\n",
    "rows_skip = 7007\n",
    "\n",
    "for filename in os.listdir(img_path):\n",
    "    f = os.path.join(img_path, filename)\n",
    "    # checking if it is a file\n",
    "    if os.path.isfile(f):\n",
    "\n",
    "        df = pd.read_csv(f, skiprows=rows_skip)\n",
    "\n",
    "        df2 = df.iloc[:,1]\n",
    "\n",
    "        df3 = df.iloc[:,3]\n",
    "\n",
    "        flow = df2.sum()/(df2.size)\n",
    "\n",
    "        pressure = df3.sum()/(df3.size)\n",
    "\n",
    "        file_avg.append([str(f),flow,pressure])"
   ]

   ],
   "source": [
    "file_length = []\n",
    "\n",
    "for filename in os.listdir(img_path):\n",
    "    f = os.path.join(img_path, filename)\n",
    "    # checking if it is a file\n",
    "    if os.path.isfile(f):\n",
    "\n",
    "        df = pd.read_csv(f, skiprows = 7)\n",
    "\n",
    "        df2 = df.iloc[:,1]\n",
    "\n",
    "        length = df2.size\n",
    "\n",
    "        file_length.append([str(f),length])"
   ]
  },
  {
   "cell_type": "code",
   "execution_count": 73,
   "metadata": {},
   "outputs": [],
   "source": [
    "with open('Flow Averages', 'w') as f:\n",
    "      \n",
    "    # using csv.writer method from CSV package\n",
    "    write = csv.writer(f)\n",
    "\n",
    "    write.writerows(file_avg)"
   ]
  }
 ],
 "metadata": {
  "kernelspec": {
   "display_name": "Python 3",
   "language": "python",
   "name": "python3"
  },
  "language_info": {
   "codemirror_mode": {
    "name": "ipython",
    "version": 3
   },
   "file_extension": ".py",
   "mimetype": "text/x-python",
   "name": "python",
   "nbconvert_exporter": "python",
   "pygments_lexer": "ipython3",
   "version": "3.10.4"
  },
  "orig_nbformat": 4
 },
 "nbformat": 4,
 "nbformat_minor": 2
}
